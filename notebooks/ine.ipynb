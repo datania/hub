{
 "cells": [
  {
   "cell_type": "markdown",
   "metadata": {},
   "source": [
    "# INE\n",
    "\n",
    "El [Instituto Nacional de Estadística](https://www.ine.es/) publíca más de 5000 conjuntos de datos. \n",
    "Acceder a ellos desde la web oficial puede ser muy ineficiente. \n",
    "\n",
    "En este notebook, vamos a explorar como exportar todos los datos a un formato más eficiente (Parquet)."
   ]
  },
  {
   "cell_type": "code",
   "execution_count": 1,
   "metadata": {},
   "outputs": [],
   "source": [
    "import httpx\n",
    "\n",
    "\n",
    "def ine_request(endpoint):\n",
    "    \"\"\"Fetch data from INE API endpoint with automatic pagination.\"\"\"\n",
    "    page = 1\n",
    "    data = []\n",
    "\n",
    "    with httpx.Client(\n",
    "        base_url=\"https://servicios.ine.es/wstempus/js/ES\",\n",
    "        limits=httpx.Limits(max_keepalive_connections=16),\n",
    "        transport=httpx.HTTPTransport(retries=5),\n",
    "    ) as client:\n",
    "        while True:\n",
    "            response = client.get(\n",
    "                f\"/{endpoint}\",\n",
    "                params={\"det\": 10, \"page\": page},\n",
    "                follow_redirects=True,\n",
    "                timeout=120,\n",
    "            ).json()\n",
    "\n",
    "            if not response:\n",
    "                break\n",
    "\n",
    "            data.extend(response)\n",
    "\n",
    "            if len(response) < 500:\n",
    "                break\n",
    "\n",
    "            page += 1\n",
    "\n",
    "    return data\n"
   ]
  },
  {
   "cell_type": "code",
   "execution_count": 2,
   "metadata": {},
   "outputs": [],
   "source": [
    "# Obtenemos todas las operaciones disponibles\n",
    "operaciones = ine_request(\"OPERACIONES_DISPONIBLES\")\n",
    "\n",
    "# Obtenemos todas las tablas\n",
    "tablas = [\n",
    "    tabla\n",
    "    for operation in operaciones\n",
    "    for tabla in ine_request(f\"TABLAS_OPERACION/{operation['Id']}\")\n",
    "]"
   ]
  },
  {
   "cell_type": "code",
   "execution_count": 3,
   "metadata": {},
   "outputs": [
    {
     "name": "stdout",
     "output_type": "stream",
     "text": [
      "Directorio creado: /home/david/projects/datania/notebooks/ine\n"
     ]
    }
   ],
   "source": [
    "# Crear un nuevo directorio para los datos del INE\n",
    "from pathlib import Path\n",
    "\n",
    "# Crear el directorio 'ine' si no existe\n",
    "ine_dir = Path(\"ine\")\n",
    "ine_dir.mkdir(exist_ok=True, parents=True)\n",
    "\n",
    "print(f\"Directorio creado: {ine_dir.absolute()}\")"
   ]
  },
  {
   "cell_type": "code",
   "execution_count": 4,
   "metadata": {},
   "outputs": [],
   "source": [
    "import json\n",
    "\n",
    "\n",
    "def save_jsonl(data, filename):\n",
    "    with open(filename, \"w\", encoding=\"utf-8\") as f:\n",
    "        for item in data:\n",
    "            f.write(json.dumps(item, ensure_ascii=False) + \"\\n\")\n",
    "\n",
    "\n",
    "save_jsonl(operaciones, ine_dir / \"operaciones.jsonl\")\n",
    "save_jsonl(tablas, ine_dir / \"tablas.jsonl\")\n"
   ]
  },
  {
   "cell_type": "code",
   "execution_count": 5,
   "metadata": {},
   "outputs": [
    {
     "name": "stdout",
     "output_type": "stream",
     "text": [
      "-rw-r--r-- 1 david david  29K Mar 17 17:12 ine/operaciones.jsonl\n",
      "-rw-r--r-- 1 david david 7.0M Mar 17 17:12 ine/tablas.jsonl\n"
     ]
    }
   ],
   "source": [
    "!ls -lh ine/*.jsonl"
   ]
  },
  {
   "cell_type": "code",
   "execution_count": null,
   "metadata": {},
   "outputs": [
    {
     "name": "stdout",
     "output_type": "stream",
     "text": [
      "Processing table 1/5030: 10275\n",
      "Processing table 51/5030: 69317\n",
      "Processing table 101/5030: 59973\n",
      "Processing table 151/5030: 2910\n",
      "Error processing table 2864: Query interrupted\n"
     ]
    }
   ],
   "source": [
    "import duckdb\n",
    "\n",
    "c = duckdb.connect()\n",
    "c.sql(\"\"\"\n",
    "CREATE SECRET http (TYPE http, EXTRA_HTTP_HEADERS MAP {'Accept-Encoding': 'gzip'});\n",
    "\"\"\")\n",
    "\n",
    "failed_tables = []\n",
    "total_tables = len(tablas)\n",
    "\n",
    "for i, table in enumerate(tablas):\n",
    "    # Si el directorio no existe, lo creamos\n",
    "    table_dir = ine_dir / \"tablas\" / str(table[\"Id\"])\n",
    "    table_dir.mkdir(exist_ok=True, parents=True)\n",
    "\n",
    "    # Copiamos el CSV a Parquet\n",
    "    try:\n",
    "        c.sql(f\"\"\"\n",
    "            copy (\n",
    "                from read_csv(\n",
    "                    'https://www.ine.es/jaxiT3/files/t/en/csv_bdsc/{table[\"Id\"]}.csv',\n",
    "                    delim=';',\n",
    "                    ignore_errors=true,\n",
    "                    normalize_names=true,\n",
    "                    null_padding=true,\n",
    "                    parallel=true,\n",
    "                    strict_mode=false,\n",
    "                    compression='gzip'\n",
    "                )\n",
    "            )\n",
    "            to 'ine/tablas/{table[\"Id\"]}/datos.parquet' (\n",
    "                format parquet,\n",
    "                compression 'zstd',\n",
    "                parquet_version v2,\n",
    "                row_group_size 1048576\n",
    "            );\n",
    "        \"\"\")\n",
    "    except Exception as e:\n",
    "        print(f\"Error processing table {table['Id']}: {str(e)}\")\n",
    "        failed_tables.append(table[\"Id\"])"
   ]
  },
  {
   "cell_type": "code",
   "execution_count": null,
   "metadata": {},
   "outputs": [],
   "source": [
    "if failed_tables:\n",
    "    print(f\"\\nFailed to process {len(failed_tables)} tables:\")\n",
    "    for table_id in failed_tables:\n",
    "        print(f\"- {table_id}\")\n",
    "else:\n",
    "    print(\"\\nAll tables processed successfully!\")\n"
   ]
  }
 ],
 "metadata": {
  "kernelspec": {
   "display_name": ".venv",
   "language": "python",
   "name": "python3"
  },
  "language_info": {
   "codemirror_mode": {
    "name": "ipython",
    "version": 3
   },
   "file_extension": ".py",
   "mimetype": "text/x-python",
   "name": "python",
   "nbconvert_exporter": "python",
   "pygments_lexer": "ipython3",
   "version": "3.13.2"
  }
 },
 "nbformat": 4,
 "nbformat_minor": 2
}
